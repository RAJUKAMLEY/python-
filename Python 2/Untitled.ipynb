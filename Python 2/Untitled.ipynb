{
 "cells": [
  {
   "cell_type": "code",
   "execution_count": 2,
   "id": "370c0088",
   "metadata": {},
   "outputs": [
    {
     "name": "stdout",
     "output_type": "stream",
     "text": [
      "java\n"
     ]
    }
   ],
   "source": [
    "def foo():\n",
    "  x = 'java'\n",
    "  def bar():\n",
    "    x = 'c++'\n",
    "  bar() \n",
    "  return x\n",
    "\n",
    "print(foo())"
   ]
  },
  {
   "cell_type": "code",
   "execution_count": 3,
   "id": "3d8a62e9",
   "metadata": {},
   "outputs": [
    {
     "name": "stdout",
     "output_type": "stream",
     "text": [
      "python\n"
     ]
    }
   ],
   "source": [
    "print(['love', 'python'][bool('cutshort')])"
   ]
  },
  {
   "cell_type": "code",
   "execution_count": 4,
   "id": "d7f1ab14",
   "metadata": {},
   "outputs": [
    {
     "name": "stdout",
     "output_type": "stream",
     "text": [
      "python\n"
     ]
    }
   ],
   "source": [
    "print(['love', 'python'][bool('cutshort')])"
   ]
  },
  {
   "cell_type": "code",
   "execution_count": 10,
   "id": "1127efec",
   "metadata": {},
   "outputs": [
    {
     "ename": "SyntaxError",
     "evalue": "invalid syntax (Temp/ipykernel_2552/1492435576.py, line 4)",
     "output_type": "error",
     "traceback": [
      "\u001b[1;36m  File \u001b[1;32m\"C:\\Users\\rajuk\\AppData\\Local\\Temp/ipykernel_2552/1492435576.py\"\u001b[1;36m, line \u001b[1;32m4\u001b[0m\n\u001b[1;33m    elif False and False or True and True:\u001b[0m\n\u001b[1;37m    ^\u001b[0m\n\u001b[1;31mSyntaxError\u001b[0m\u001b[1;31m:\u001b[0m invalid syntax\n"
     ]
    }
   ],
   "source": [
    "if True or True:\n",
    "    if False and True or False:\n",
    "        print('A')\n",
    "        elif False and False or True and True:\n",
    "            print('B') \n",
    "else:\n",
    "    print('C') \n",
    "else:\n",
    "    print('D')\n"
   ]
  },
  {
   "cell_type": "code",
   "execution_count": 1,
   "id": "f2a1f7fd",
   "metadata": {},
   "outputs": [
    {
     "name": "stdout",
     "output_type": "stream",
     "text": [
      "<class 'tuple'>\n"
     ]
    }
   ],
   "source": [
    "t=(1,'abc',2+3j)\n",
    "print(type(t[2:3]))"
   ]
  },
  {
   "cell_type": "code",
   "execution_count": 16,
   "id": "473a26e4",
   "metadata": {},
   "outputs": [
    {
     "ename": "NameError",
     "evalue": "name 'n' is not defined",
     "output_type": "error",
     "traceback": [
      "\u001b[1;31m---------------------------------------------------------------------------\u001b[0m",
      "\u001b[1;31mNameError\u001b[0m                                 Traceback (most recent call last)",
      "\u001b[1;32m~\\AppData\\Local\\Temp/ipykernel_2552/3908480610.py\u001b[0m in \u001b[0;36m<module>\u001b[1;34m\u001b[0m\n\u001b[0;32m      2\u001b[0m     \u001b[0mr\u001b[0m \u001b[1;33m=\u001b[0m \u001b[1;33m[\u001b[0m\u001b[1;33m]\u001b[0m\u001b[1;33m\u001b[0m\u001b[1;33m\u001b[0m\u001b[0m\n\u001b[0;32m      3\u001b[0m     \u001b[0mt\u001b[0m \u001b[1;33m=\u001b[0m \u001b[0msorted\u001b[0m\u001b[1;33m(\u001b[0m\u001b[0mn\u001b[0m\u001b[1;33m)\u001b[0m\u001b[1;33m\u001b[0m\u001b[1;33m\u001b[0m\u001b[0m\n\u001b[1;32m----> 4\u001b[1;33m \u001b[1;32mfor\u001b[0m \u001b[0mi\u001b[0m \u001b[1;32min\u001b[0m \u001b[0mn\u001b[0m\u001b[1;33m:\u001b[0m\u001b[1;33m\u001b[0m\u001b[1;33m\u001b[0m\u001b[0m\n\u001b[0m\u001b[0;32m      5\u001b[0m     \u001b[0mr\u001b[0m\u001b[1;33m.\u001b[0m\u001b[0mappend\u001b[0m\u001b[1;33m(\u001b[0m\u001b[0mt\u001b[0m\u001b[1;33m.\u001b[0m\u001b[0mindex\u001b[0m\u001b[1;33m(\u001b[0m\u001b[0mi\u001b[0m\u001b[1;33m)\u001b[0m\u001b[1;33m)\u001b[0m\u001b[1;33m\u001b[0m\u001b[1;33m\u001b[0m\u001b[0m\n\u001b[0;32m      6\u001b[0m \u001b[1;32mreturn\u001b[0m \u001b[0mr\u001b[0m\u001b[1;33m\u001b[0m\u001b[1;33m\u001b[0m\u001b[0m\n",
      "\u001b[1;31mNameError\u001b[0m: name 'n' is not defined"
     ]
    }
   ],
   "source": [
    "def my_func(n):\n",
    "    r = []\n",
    "    t = sorted(n)\n",
    "for i in n:\n",
    "    r.append(t.index(i))\n",
    "return r\n",
    "\n",
    "n = [5, 1, 2, 1, 3, 6]\n",
    "if __name__ == \"__main__\": \n",
    "    print(my_func(n))\n"
   ]
  },
  {
   "cell_type": "code",
   "execution_count": 17,
   "id": "17291673",
   "metadata": {},
   "outputs": [
    {
     "name": "stdout",
     "output_type": "stream",
     "text": [
      "cutshort\n"
     ]
    }
   ],
   "source": [
    "def my_func(s, z):\n",
    "  total = 0\n",
    "  len_str = len(s)\n",
    "\n",
    "  for x, y in z:\n",
    "    if x == 0:\n",
    "      total += y\n",
    "    else:\n",
    "      total -= y\n",
    "  total = total % len_str\n",
    "  print(s[total:] + s[:total])\n",
    "\n",
    "\n",
    "s = 'cutshort'\n",
    "z = [[0, 3], [1, 11]]\n",
    "\n",
    "if __name__ == \"__main__\":\n",
    "  my_func(s, z)"
   ]
  },
  {
   "cell_type": "code",
   "execution_count": 18,
   "id": "01068df4",
   "metadata": {},
   "outputs": [
    {
     "name": "stdout",
     "output_type": "stream",
     "text": [
      "[0, 1, 1, 2, 1, 2, 2]\n"
     ]
    }
   ],
   "source": [
    "def my_func(num):\n",
    "  data = [0]\n",
    "  for i in range(1, num+1):\n",
    "    data.append(data[i >> 1] + int(i & 1))\n",
    "  return data\n",
    "\n",
    "\n",
    "num = 6\n",
    "print(my_func(num))"
   ]
  },
  {
   "cell_type": "code",
   "execution_count": 19,
   "id": "31367974",
   "metadata": {},
   "outputs": [],
   "source": [
    "def oddsums(n):\n",
    "  total=0\n",
    "  result=[]\n",
    "  for i in range(1,n+1):\n",
    "    odd= 2*i-1\n",
    "    total=total+odd\n",
    "    result.append(total)\n",
    "  return result"
   ]
  },
  {
   "cell_type": "code",
   "execution_count": 21,
   "id": "8ffe5b19",
   "metadata": {},
   "outputs": [],
   "source": [
    "from flask import Flask, session\n",
    "app = Flask(__name__)\n",
    "\n",
    "@app.route(\"/<username>\")\n",
    "def home(username):\n",
    "    session[\"username\"]  = username\n",
    "    return \"Logged in as {}\".format(username)\n",
    "\n",
    "@app.route(\"/view/<username>\")\n",
    "def not_home(username):\n",
    "    if \"username\" in session:\n",
    "        return \"Logged in as {}\".format(username)\n",
    "    else:\n",
    "        session[\"username\"] = username\n",
    "        return \"Logged in as {}\".format(username)"
   ]
  },
  {
   "cell_type": "code",
   "execution_count": 22,
   "id": "8bff08c3",
   "metadata": {},
   "outputs": [
    {
     "name": "stdout",
     "output_type": "stream",
     "text": [
      "[0, 1, 1, 2, 1, 2, 2]\n"
     ]
    }
   ],
   "source": [
    "def my_func(num):\n",
    "  data = [0]\n",
    "  for i in range(1, num+1):\n",
    "    data.append(data[i >> 1] + int(i & 1))\n",
    "  return data\n",
    "\n",
    "\n",
    "num = 6\n",
    "print(my_func(num))"
   ]
  },
  {
   "cell_type": "code",
   "execution_count": null,
   "id": "0a8fae7f",
   "metadata": {},
   "outputs": [],
   "source": []
  }
 ],
 "metadata": {
  "kernelspec": {
   "display_name": "Python 3.10.5 64-bit",
   "language": "python",
   "name": "python3"
  },
  "language_info": {
   "codemirror_mode": {
    "name": "ipython",
    "version": 3
   },
   "file_extension": ".py",
   "mimetype": "text/x-python",
   "name": "python",
   "nbconvert_exporter": "python",
   "pygments_lexer": "ipython3",
   "version": "3.10.5"
  },
  "vscode": {
   "interpreter": {
    "hash": "567e0e6ee254c04bc1b5e447844e18b8c6eb635bf112a4580dfc6e7095b496ea"
   }
  }
 },
 "nbformat": 4,
 "nbformat_minor": 5
}
